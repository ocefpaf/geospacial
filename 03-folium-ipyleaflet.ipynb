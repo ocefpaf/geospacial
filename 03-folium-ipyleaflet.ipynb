{
 "cells": [
  {
   "cell_type": "code",
   "execution_count": null,
   "metadata": {},
   "outputs": [],
   "source": [
    "from pathlib import Path\n",
    "\n",
    "datapath = Path(\"data\")"
   ]
  },
  {
   "cell_type": "markdown",
   "metadata": {},
   "source": [
    "# _Slippy_ maps (Mapas \"escorregantes\")\n",
    "\n",
    "\n",
    "<div class=\"alert-info\">\n",
    "\n",
    "### Perguntas\n",
    "- O que são e quando usar?\n",
    "- Quais bibliotecas são mais adequadas para \"o meu caso?\"\n",
    "\n",
    "### Objetivos\n",
    "- Exibir dados em mapas _slippy_\n",
    "\n",
    "</div>\n",
    "\n",
    "\n",
    "Mapas _slippy_ são uma ferramenta poderosa para exibir dados complexos e permitir ao usuário final uma navegação/exploração de alto nível."
   ]
  },
  {
   "cell_type": "code",
   "execution_count": null,
   "metadata": {},
   "outputs": [],
   "source": [
    "from toolz.dicttoolz import valmap\n",
    "\n",
    "invert = lambda x: x[::-1]\n",
    "\n",
    "pybrs = {\n",
    "    \"Campinas\": [-47.060833, -22.905833],\n",
    "    \"Brasília\": [-47.882778, -15.793889],\n",
    "    \"Joinville\": [-48.845833, -26.303889],\n",
    "    \"Rio de Janeiro\": [-43.196389, -22.908333],\n",
    "    \"Caxias do Sul\": [-51.178889, -29.167778],\n",
    "    \"Curitiba\": [-49.271944, -25.429722],\n",
    "    \"São Paulo\": [-46.633333, -23.55],\n",
    "    \"Cidade Nova\": [-43.2025, -22.91],\n",
    "    \"Brasília\": [-47.882778, -15.793889],\n",
    "    \"Porto de Galinhas\": [-35.0011, -8.5041],\n",
    "    \"São José dos Campos\": [-45.886944, -23.178889],\n",
    "    \"Florianópolis\": [-48.548889, -27.596944],\n",
    "    \"Belo Horizonte\": [-43.933333, -19.916667],\n",
    "    \"Ribeirão Preto\": [-47.81, -21.177778],\n",
    "}\n",
    "\n",
    "pybrs = valmap(invert, pybrs)"
   ]
  },
  {
   "cell_type": "markdown",
   "metadata": {},
   "source": [
    "### folium"
   ]
  },
  {
   "cell_type": "code",
   "execution_count": null,
   "metadata": {},
   "outputs": [],
   "source": [
    "import folium\n",
    "from folium.plugins import Fullscreen\n",
    "\n",
    "\n",
    "m = folium.Map(\n",
    "    tiles=\"https://server.arcgisonline.com/ArcGIS/rest/services/World_Topo_Map/MapServer/tile/{z}/{y}/{x}\",\n",
    "    attr=\"ESRI\",\n",
    "    zoom_start=5,\n",
    ")\n",
    "\n",
    "for city, location in pybrs.items():\n",
    "    folium.Marker(location=location).add_to(m)\n",
    "    \n",
    "m.fit_bounds(m.get_bounds())\n",
    "m"
   ]
  },
  {
   "cell_type": "markdown",
   "metadata": {},
   "source": [
    "<div class=\"alert-warning\">\n",
    "\n",
    "Exercício:\n",
    "\n",
    "1. Adicione o nome da cidade como popup.\n",
    "2. explore os `plugins` e adicione algo que facilitaria a navegação dos dados.\n",
    "\n",
    "Dica: olhe os `kw` da classe `Marker`.\n",
    "\n",
    "</div>"
   ]
  },
  {
   "cell_type": "markdown",
   "metadata": {},
   "source": [
    "<div class=\"alert-success\">\n",
    "\n",
    "</div>"
   ]
  },
  {
   "cell_type": "markdown",
   "metadata": {},
   "source": [
    "```python\n",
    "import folium.plugins\n",
    "\n",
    "\n",
    "\"\"\"...\"\"\"\n",
    "```"
   ]
  },
  {
   "cell_type": "markdown",
   "metadata": {},
   "source": [
    "### Exemplo completo dados raster, vetoriais para um mapa temático"
   ]
  },
  {
   "cell_type": "code",
   "execution_count": null,
   "metadata": {},
   "outputs": [],
   "source": [
    "import folium\n",
    "\n",
    "lon, lat = -86.276, 30.935 \n",
    "\n",
    "m = folium.Map(\n",
    "    location=[lat, lon],\n",
    "    tiles=\"Cartodb Positron\",\n",
    "    zoom_start=5\n",
    ")"
   ]
  },
  {
   "cell_type": "code",
   "execution_count": null,
   "metadata": {},
   "outputs": [],
   "source": [
    "from pathlib import Path\n",
    "import json\n",
    "\n",
    "path = Path(\"data\")\n",
    "\n",
    "f = path.joinpath(\"stations.geojson\").open()\n",
    "stations = json.load(f)\n",
    "\n",
    "f = path.joinpath(\"hfradar.geojson\").open()\n",
    "hfradar = json.load(f)"
   ]
  },
  {
   "cell_type": "code",
   "execution_count": null,
   "metadata": {},
   "outputs": [],
   "source": [
    "icon_size = (14, 14)\n",
    "\n",
    "for feature in stations[\"features\"]:\n",
    "    lon, lat = feature[\"geometry\"][\"coordinates\"]\n",
    "    icon_url = feature[\"properties\"][\"icon\"]\n",
    "    popup = feature[\"properties\"][\"popupcontent\"]\n",
    "\n",
    "    icon = folium.features.CustomIcon(\n",
    "        icon_url,\n",
    "        icon_size=(14, 14)\n",
    "    )\n",
    "\n",
    "    marker = folium.map.Marker(\n",
    "        location=[lat, lon],\n",
    "        icon=icon,\n",
    "        popup=folium.map.Popup(popup)\n",
    "    )\n",
    "    m.add_child(marker)"
   ]
  },
  {
   "cell_type": "code",
   "execution_count": null,
   "metadata": {},
   "outputs": [],
   "source": [
    "for feature in hfradar[\"features\"]:\n",
    "    if feature[\"geometry\"][\"type\"] == \"Point\":\n",
    "        lon, lat = feature[\"geometry\"][\"coordinates\"]\n",
    "        icon_url = feature[\"properties\"][\"icon\"]\n",
    "        popup = feature[\"properties\"][\"popupcontent\"]\n",
    "\n",
    "        icon = folium.features.CustomIcon(\n",
    "            icon_url,\n",
    "            icon_size=(14, 14)\n",
    "        )\n",
    "        marker = folium.Marker(\n",
    "            location=[lat, lon],\n",
    "            icon=icon,\n",
    "            popup=folium.Popup(popup)\n",
    "        )\n",
    "        m.add_child(marker)\n",
    "    elif feature[\"geometry\"][\"type\"] == \"Polygon\":\n",
    "        gjson = folium.features.GeoJson(feature)\n",
    "        m.add_child(gjson)"
   ]
  },
  {
   "cell_type": "code",
   "execution_count": null,
   "metadata": {},
   "outputs": [],
   "source": [
    "m"
   ]
  },
  {
   "cell_type": "code",
   "execution_count": null,
   "metadata": {},
   "outputs": [],
   "source": [
    "import pandas as pd\n",
    "\n",
    "\n",
    "url = (\n",
    "    \"https://whereonmars.carto.com/api/v2/sql?\"\n",
    "    \"filename=themartian&\"\n",
    "    \"q=SELECT+*+FROM+(select+*+from+public.themartian)+as+subq+&\"\n",
    "    \"format=csv&\"\n",
    "    \"bounds=&\"\n",
    "    \"api_key=&\"\n",
    "    \"skipfields=the_geom_webmercator\"\n",
    ")\n",
    "\n",
    "df = pd.read_csv(url, index_col=\"cartodb_id\").sort_index().drop(\"the_geom\", axis=1)"
   ]
  },
  {
   "cell_type": "code",
   "execution_count": null,
   "metadata": {},
   "outputs": [],
   "source": [
    "import folium\n",
    "from folium.plugins import Draw, Fullscreen\n",
    "\n",
    "opm_attr = '<a href=\"https://github.com/openplanetary/opm/wiki/OPM-Basemaps\" target=\"blank\">OpenPlanetaryMap</a>'\n",
    "\n",
    "m = folium.Map(\n",
    "    attr=f\"NASA/MOLA |{opm_attr}\",\n",
    "    max_zoom=5,\n",
    "    tiles=\"https://s3-eu-west-1.amazonaws.com/whereonmars.cartodb.net/mola-color/{z}/{x}/{-y}.png\"\n",
    ")\n",
    "\n",
    "Fullscreen().add_to(m);"
   ]
  },
  {
   "cell_type": "code",
   "execution_count": null,
   "metadata": {},
   "outputs": [],
   "source": [
    "kw = {\n",
    "    \"fill\": True,\n",
    "    \"color\": \"white\",\n",
    "    \"fill_color\": \"white\",\n",
    "    \"fill_opacity\": 1,\n",
    "}\n",
    "\n",
    "for k, row in df.iterrows():\n",
    "    title = row[\"title\"] if isinstance(row[\"title\"], str) else None\n",
    "    location = [row[\"lat\"], row[\"lng\"]]\n",
    "    if title:\n",
    "        folium.CircleMarker(location=location, popup=title, radius=5, **kw).add_to(m)\n",
    "    else:\n",
    "        folium.CircleMarker(location=location, radius=1, **kw).add_to(m)"
   ]
  },
  {
   "cell_type": "code",
   "execution_count": null,
   "metadata": {},
   "outputs": [],
   "source": [
    "m"
   ]
  },
  {
   "cell_type": "markdown",
   "metadata": {},
   "source": [
    "### ipyleaflet"
   ]
  },
  {
   "cell_type": "code",
   "execution_count": null,
   "metadata": {},
   "outputs": [],
   "source": [
    "from ipyleaflet import Map, Velocity, TileLayer, basemaps\n",
    "import xarray as xr\n",
    "\n",
    "zoom = 3\n",
    "\n",
    "m = Map(\n",
    "    center=[44, -130],\n",
    "    zoom=3,\n",
    "    interpolation=\"nearest\",\n",
    "    basemap=basemaps.CartoDB.DarkMatter,\n",
    ")"
   ]
  },
  {
   "cell_type": "code",
   "execution_count": null,
   "metadata": {},
   "outputs": [],
   "source": [
    "ds = xr.open_dataset(datapath.joinpath(\"wind-global.nc\"))\n",
    "\n",
    "display_options = {\n",
    "    \"velocityType\": \"Global Wind\",\n",
    "    \"displayPosition\": \"bottomleft\",\n",
    "    \"displayEmptyString\": \"No wind data\"\n",
    "}\n",
    "wind = Velocity(\n",
    "    data=ds, \n",
    "    zonal_speed=\"u_wind\", meridional_speed=\"v_wind\", \n",
    "    latitude_dimension=\"lat\", longitude_dimension=\"lon\", \n",
    "    velocity_scale=0.01, max_velocity=20, \n",
    "    display_options=display_options\n",
    ")\n",
    "m.add_layer(wind)"
   ]
  },
  {
   "cell_type": "code",
   "execution_count": null,
   "metadata": {},
   "outputs": [],
   "source": [
    "m"
   ]
  },
  {
   "cell_type": "markdown",
   "metadata": {},
   "source": [
    "<div class=\"alert-success\">\n",
    "\n",
    "_Slippy maps_ são poderosas ferramentas de visualização que permitem \"compactar\" muita informação e entregar ao usuário final o poder de explorar conjunto de dados complexos.\n",
    "\n",
    "* folium é ideal para mapas que serão \"servidos\" ou que fazem uso dos diversos plugins do leaflet.\n",
    "* ipyleaflet é ideal para interações de duas vias entre o mapa (JS) e Python.\n",
    "\n",
    "</div>"
   ]
  }
 ],
 "metadata": {
  "kernelspec": {
   "display_name": "Python 3",
   "language": "python",
   "name": "python3"
  },
  "language_info": {
   "codemirror_mode": {
    "name": "ipython",
    "version": 3
   },
   "file_extension": ".py",
   "mimetype": "text/x-python",
   "name": "python",
   "nbconvert_exporter": "python",
   "pygments_lexer": "ipython3",
   "version": "3.7.3"
  }
 },
 "nbformat": 4,
 "nbformat_minor": 2
}
