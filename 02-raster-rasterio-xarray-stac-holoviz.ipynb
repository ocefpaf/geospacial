{
 "cells": [
  {
   "cell_type": "code",
   "execution_count": null,
   "metadata": {},
   "outputs": [],
   "source": [
    "from pathlib import Path\n",
    "\n",
    "\n",
    "datapath = Path(\"data\")"
   ]
  },
  {
   "cell_type": "markdown",
   "metadata": {},
   "source": [
    "# Dados tipo raster\n",
    "\n",
    "<div class=\"alert-info\">\n",
    "    \n",
    "### Perguntas\n",
    "- O que são dados raster?\n",
    "- Quais são os principais atributos de um dado raster?\n",
    "- Onde obter esse tipo de dados e como recortar uma regioão de interesse?\n",
    "\n",
    "### Objetivos\n",
    "- Entender o modelo de dados raster.\n",
    "- Descrever as vantages e desvantages de armazenar dados em raster.\n",
    "- Encontrar, recortar e exibir as imagens. \n",
    "  \n",
    "</div>"
   ]
  },
  {
   "cell_type": "markdown",
   "metadata": {},
   "source": [
    "## Estrutura de Dados: Raster e Vetor\n",
    "\n",
    "- Vetores e raster são os dois tipo fundamentais de dados.\n",
    "\n",
    "- Vetores representam feições específicas na superfície da Terra, e designa atributos à essas feições.\n",
    "\n",
    "- Dados raster são armazenados em grades que são renderizados em um mapa na forma de pixels. Cada pixel representa uma área na supefície da Terra. \n",
    "\n",
    "\n",
    "### Raster\n",
    "\n",
    "Um raster é uma grade retungular de pixels com valores que podem ser contínuos (ex. elevação) ou categórico (ex. uso de terra).\n",
    "\n",
    "Curiosidade: nos anos 1950's gráficos raster eram famosos por ser uma alternativa a vetores mais rápida e barata (mas de baixa resolução).\n",
    "\n",
    "### Propriedades\n",
    "\n",
    "- estrutura de linhas e colunas\n",
    "- tipo de dado (dtype ou _bit depth_) -- ex 8-bit ou 0-255\n",
    "- alguma informação de resolução, em geral dpi (dots per inch)\n",
    "\n",
    "Um raster raster geospacial difere de uma foto digital em um metadado extra sobre o sistema referenciamento de coordenadas."
   ]
  },
  {
   "cell_type": "markdown",
   "metadata": {},
   "source": [
    "<img src=\"images/raster_concept.png\" width=\"500\" height=\"500\" />\n",
    "*Source: National Ecological Observatory Network (NEON)*"
   ]
  },
  {
   "cell_type": "markdown",
   "metadata": {},
   "source": [
    "## Raster Vantagens and Desvantagens\n",
    "\n",
    "| Vantagens                              | Desvantagens                                                                  |\n",
    "|----------------------------------------|-------------------------------------------------------------------------------| \n",
    "| representação de superfícies contíguas | tamanho de arquivos muito grande                                              | \n",
    "| auto nível de detalhes                 | pode ser difícil representar dados complexos                                  |\n",
    "| dados são \"sem peso\" em sua extensão   | Dados são representados em grade regular, o que pode não reflete o mundo real |  \n",
    "| computação célula-por-célula é ágil    | Modelos espaciais assumem que todos os pixels tem valores                     |\n",
    "|                                        | Mudança na resolução mudam drasticamente o significado do set de dados        |\n"
   ]
  },
  {
   "cell_type": "code",
   "execution_count": null,
   "metadata": {},
   "outputs": [],
   "source": [
    "import ipyleaflet\n",
    "\n",
    "lon, lat = -48.548889, -27.596944\n",
    "dx = dy = 0.25\n",
    "bbox = [lon-dx, lat+dy, lon+dx, lat-dy]\n",
    "west, north, east, south = bbox\n",
    "\n",
    "\n",
    "m = ipyleaflet.Map(center=[lat, lon], zoom=6)\n",
    "\n",
    "right_layer = ipyleaflet.basemap_to_tiles(\n",
    "    ipyleaflet.basemaps.NASAGIBS.ModisTerraTrueColorCR, \"2004-03-27\"\n",
    "#     ipyleaflet.basemaps.NASAGIBS.ModisAquaTrueColorCR, \"2004-03-27\"\n",
    ")\n",
    "\n",
    "left_layer = ipyleaflet.TileLayer()\n",
    "control = ipyleaflet.SplitMapControl(\n",
    "    left_layer=left_layer, right_layer=right_layer\n",
    ")\n",
    "m.add_control(control)\n",
    "\n",
    "m"
   ]
  },
  {
   "cell_type": "markdown",
   "metadata": {},
   "source": [
    "### Não existe computação geospacial sem o GDAL\n",
    "\n",
    "O que significa que `pip` não será o suficiente.\n",
    "\n",
    "![](images/gdal-meme.png)"
   ]
  },
  {
   "cell_type": "code",
   "execution_count": null,
   "metadata": {},
   "outputs": [],
   "source": [
    "!gdalinfo --version"
   ]
  },
  {
   "cell_type": "code",
   "execution_count": null,
   "metadata": {},
   "outputs": [],
   "source": [
    "!gdalinfo --formats"
   ]
  },
  {
   "cell_type": "markdown",
   "metadata": {},
   "source": [
    "### Área de interesse"
   ]
  },
  {
   "cell_type": "code",
   "execution_count": null,
   "metadata": {},
   "outputs": [],
   "source": [
    "lon, lat = -48.548889, -27.596944\n",
    "dx = dy = 0.25\n",
    "\n",
    "bbox = [lon-dx, lat+dy, lon+dx, lat-dy]\n",
    "west, north, east, south = bbox"
   ]
  },
  {
   "cell_type": "code",
   "execution_count": null,
   "metadata": {
    "scrolled": true
   },
   "outputs": [],
   "source": [
    "import json\n",
    "\n",
    "aoi = {\n",
    "    \"type\": \"Polygon\",\n",
    "    \"coordinates\": [\n",
    "        [\n",
    "            [west, south],\n",
    "            [west, north],\n",
    "            [east, north],\n",
    "            [east, south],\n",
    "            [west, south]\n",
    "        ]\n",
    "    ]\n",
    "}\n",
    "\n",
    "\n",
    "with open('aoi-floripa.geojson', 'w') as f:\n",
    "    json.dump(aoi, f)\n",
    "\n",
    "\n",
    "print(json.dumps(aoi, sort_keys=False, indent=2))"
   ]
  },
  {
   "cell_type": "code",
   "execution_count": null,
   "metadata": {},
   "outputs": [],
   "source": [
    "from satsearch import Search\n",
    "\n",
    "\n",
    "bbox = [-48.798889, -27.846944, -48.298889, -27.346944]\n",
    "\n",
    "search = Search(bbox=bbox)\n",
    "print(f\"Achei {search.found()} images\")\n",
    "\n",
    "search = Search(time=\"2019-08-23T00:00:00Z/2019-08-28T00:00:00Z\")\n",
    "print(f\"com {search.found()} itens temporais\")"
   ]
  },
  {
   "cell_type": "code",
   "execution_count": null,
   "metadata": {},
   "outputs": [],
   "source": [
    "search = Search(\n",
    "    bbox=bbox,\n",
    "    datetime=\"2019-08-23/2019-08-28\",\n",
    "    property=[\"eo:cloud_cover<5\"]\n",
    ")\n",
    "\n",
    "items = search.items()\n",
    "print(items._collections)\n",
    "print(items.summary())"
   ]
  },
  {
   "cell_type": "code",
   "execution_count": null,
   "metadata": {},
   "outputs": [],
   "source": [
    "items.save(\"items-floripa.json\")"
   ]
  },
  {
   "cell_type": "markdown",
   "metadata": {},
   "source": [
    "### O que temos nesse JSON?"
   ]
  },
  {
   "cell_type": "code",
   "execution_count": null,
   "metadata": {},
   "outputs": [],
   "source": [
    "import geopandas\n",
    "\n",
    "\n",
    "gdf = geopandas.read_file(\"items-floripa.json\")\n",
    "gdf = gdf.sort_values(\"datetime\").reset_index(drop=True)\n",
    "gdf.head()"
   ]
  },
  {
   "cell_type": "markdown",
   "metadata": {},
   "source": [
    "<div class=\"alert-warning\">\n",
    "\n",
    "Exercício:\n",
    "\n",
    "1. Usando o `repr` do Jupyter mostre um item da coluna `geometry`.\n",
    "2. O que temos na coluna `eo:bands`?\n",
    "\n",
    "</div>"
   ]
  },
  {
   "cell_type": "markdown",
   "metadata": {},
   "source": [
    "```python\n",
    "gdf[\"\"]\n",
    "```"
   ]
  },
  {
   "cell_type": "code",
   "execution_count": null,
   "metadata": {},
   "outputs": [],
   "source": [
    "import ast\n",
    "import pandas as pd\n",
    "\n",
    "\n",
    "band_info = pd.DataFrame(\n",
    "    ast.literal_eval(gdf.iloc[0]['eo:bands'])\n",
    ")\n",
    "band_info"
   ]
  },
  {
   "cell_type": "code",
   "execution_count": null,
   "metadata": {},
   "outputs": [],
   "source": [
    "subset = gdf[gdf[\"eo:cloud_cover\"] < 20]\n",
    "\n",
    "print(f\"{len(subset)} items\")"
   ]
  },
  {
   "cell_type": "markdown",
   "metadata": {},
   "source": [
    "### Área de Interesse (AOI)"
   ]
  },
  {
   "cell_type": "code",
   "execution_count": null,
   "metadata": {},
   "outputs": [],
   "source": [
    "import hvplot.pandas\n",
    "import geoviews\n",
    "\n",
    "gaoi = geopandas.read_file(\"aoi-floripa.geojson\")\n",
    "\n",
    "cols = gdf.loc[:, (\"id\",\"geometry\")]\n",
    "\n",
    "footprints = cols.hvplot(\n",
    "    geo=True,\n",
    "    line_color=\"k\",\n",
    "    alpha=0.1,\n",
    ")\n",
    "\n",
    "aoi = gaoi.hvplot(geo=True, line_color=\"r\", fill_color=None)\n",
    "tiles = geoviews.tile_sources.CartoEco.options(width=700, height=500)\n",
    "labels = geoviews.tile_sources.StamenLabels.options(level=\"annotation\")\n",
    "tiles * footprints * aoi * labels"
   ]
  },
  {
   "cell_type": "code",
   "execution_count": null,
   "metadata": {},
   "outputs": [],
   "source": [
    "from ipywidgets import interact\n",
    "from IPython.display import display, Image\n",
    "\n",
    "\n",
    "def browse_images(items):\n",
    "    n = len(items)\n",
    "    print(n)\n",
    "\n",
    "    def view_image(i=0):\n",
    "        item = items[i]\n",
    "        print(f\"id={item.id}\\tdate={item.datetime}\\tcloud%={item['eo:cloud_cover']}\")\n",
    "        display(Image(item.asset(\"thumbnail\")[\"href\"]))\n",
    "    \n",
    "    interact(view_image, i=(0,n-1))"
   ]
  },
  {
   "cell_type": "code",
   "execution_count": null,
   "metadata": {},
   "outputs": [],
   "source": [
    "results = Search(\n",
    "    bbox=bbox,\n",
    "    datetime=\"2019-08-23/2019-08-28\",\n",
    "    property=[\"eo:cloud_cover<15\"]\n",
    ")\n",
    "\n",
    "print(\"%s items\" % results.found())\n",
    "items = results.items()"
   ]
  },
  {
   "cell_type": "code",
   "execution_count": null,
   "metadata": {},
   "outputs": [],
   "source": [
    "browse_images(items)"
   ]
  },
  {
   "cell_type": "markdown",
   "metadata": {},
   "source": [
    "### Variáveis para melhorar a eficiência de leitura de dados no AWS S3"
   ]
  },
  {
   "cell_type": "code",
   "execution_count": null,
   "metadata": {},
   "outputs": [],
   "source": [
    "import rasterio\n",
    "\n",
    "\n",
    "env = rasterio.Env(\n",
    "    GDAL_DISABLE_READDIR_ON_OPEN=\"EMPTY_DIR\",\n",
    "    CPL_VSIL_CURL_ALLOWED_EXTENSIONS=\"TIF\",\n",
    ")"
   ]
  },
  {
   "cell_type": "code",
   "execution_count": null,
   "metadata": {},
   "outputs": [],
   "source": [
    "import xarray as xr\n",
    "\n",
    "\n",
    "item = items[2]\n",
    "band = 'red'\n",
    "url = item.asset(band)['href']\n",
    "print(url)\n",
    "with env:\n",
    "    with rasterio.open(url) as src:\n",
    "        print(src.profile) # image metadata\n",
    "        width = src.width\n",
    "        blockx = src.profile['blockxsize']\n",
    "        blocky = src.profile['blockysize']\n",
    "        xchunk = int(width/blockx)*blockx\n",
    "        ychunk = blocky\n",
    "        da = xr.open_rasterio(src, chunks={'band': 1, 'x': xchunk, 'y': ychunk})\n",
    "da"
   ]
  },
  {
   "cell_type": "markdown",
   "metadata": {},
   "source": [
    "### Um dos `repr` mais legais que já vi!"
   ]
  },
  {
   "cell_type": "code",
   "execution_count": null,
   "metadata": {},
   "outputs": [],
   "source": [
    "da.data"
   ]
  },
  {
   "cell_type": "code",
   "execution_count": null,
   "metadata": {},
   "outputs": [],
   "source": [
    "import hvplot.xarray\n",
    "\n",
    "\n",
    "img = da.hvplot.image(\n",
    "    rasterize=True,\n",
    "    logz=True,\n",
    "    width=700,\n",
    "    height=500,\n",
    "    cmap=\"reds\",\n",
    "    title=f\"{item.id} ({band})\")\n",
    "\n",
    "img"
   ]
  },
  {
   "cell_type": "code",
   "execution_count": null,
   "metadata": {},
   "outputs": [],
   "source": [
    "import cartopy.crs as ccrs\n",
    "\n",
    "\n",
    "crs = ccrs.UTM(zone=\"22J\")\n",
    "img = da.hvplot.image(\n",
    "    crs=crs,\n",
    "    rasterize=True,\n",
    "    width=700,\n",
    "    height=500,\n",
    "    cmap=\"reds\",\n",
    "    alpha=0.8,\n",
    "    title=f\"{item.id} ({band})\")\n",
    "\n",
    "aoi = gaoi.hvplot(\n",
    "    geo=True,\n",
    "    line_color=\"b\",\n",
    "    fill_color=None,\n",
    ")\n",
    "img * aoi"
   ]
  },
  {
   "cell_type": "markdown",
   "metadata": {},
   "source": [
    "### Cortar a Área de Interesse"
   ]
  },
  {
   "cell_type": "code",
   "execution_count": null,
   "metadata": {},
   "outputs": [],
   "source": [
    "gaoi[\"geometry\"].squeeze()"
   ]
  },
  {
   "cell_type": "code",
   "execution_count": null,
   "metadata": {},
   "outputs": [],
   "source": [
    "from rasterio.mask import mask\n",
    "\n",
    "\n",
    "with rasterio.open(url) as src:\n",
    "    # re-project vector to match raster CRS\n",
    "    print(src.meta)\n",
    "    shape = gaoi.to_crs(epsg=src.crs.to_epsg())\n",
    "    out_image, out_transform = mask(\n",
    "        src, shape.geometry.values, crop=True\n",
    "    )\n",
    "    out_meta = src.meta\n",
    "    out_meta.update({\n",
    "                 \"height\": out_image.shape[1],\n",
    "                 \"width\": out_image.shape[2],\n",
    "                 \"transform\": out_transform})\n",
    "    print(out_meta)\n",
    "    \n",
    "    # write small image to local Geotiff file\n",
    "    with rasterio.open(\"subset.tif\", \"w\", **out_meta) as dst:\n",
    "        dst.write(out_image)"
   ]
  },
  {
   "cell_type": "code",
   "execution_count": null,
   "metadata": {},
   "outputs": [],
   "source": [
    "import pyproj\n",
    "\n",
    "\n",
    "lat, lon = -27.512964, -48.4529687\n",
    "\n",
    "conv = pyproj.Proj(\"+proj=utm +zone=22J, +south +ellps=WGS84 +datum=WGS84 +units=m +no_defs\")\n",
    "\n",
    "x, y = conv(lon, lat)\n",
    "x, y"
   ]
  },
  {
   "cell_type": "code",
   "execution_count": null,
   "metadata": {},
   "outputs": [],
   "source": [
    "import rasterio.plot\n",
    "import matplotlib.pyplot as plt\n",
    "\n",
    "\n",
    "fig, ax = plt.subplots(figsize=(9, 9))\n",
    "ax.plot(x, y, \"bo\")\n",
    "\n",
    "with rasterio.open(\"subset.tif\") as src:\n",
    "    rasterio.plot.show(\n",
    "        src,\n",
    "        cmap=\"Reds\",\n",
    "    )\n",
    "\n",
    "ax.plot()"
   ]
  },
  {
   "cell_type": "markdown",
   "metadata": {},
   "source": [
    "<div class=\"alert-warning\">\n",
    "\n",
    "Exercício:\n",
    "\n",
    "1. Modifique a busca acima para uma nova AOI e cria um mapa com os retângulos das imagens.\n",
    "\n",
    "2. Caso tenha encontrado imagem landsat carregue ela com o xarray.\n",
    "\n",
    "</div>"
   ]
  },
  {
   "cell_type": "markdown",
   "metadata": {},
   "source": [
    "# Plano B caso a internet não aguente!"
   ]
  },
  {
   "cell_type": "code",
   "execution_count": null,
   "metadata": {},
   "outputs": [],
   "source": [
    "# https://registry.opendata.aws/landsat-8/\n",
    "\n",
    "HOST = \"https://landsat-pds.s3.amazonaws.com/c1/L8/042/034/LC08_L1TP_042034_20170616_20170629_01_T1\"\n",
    "IMAGE = \"LC08_L1TP_042034_20170616_20170629_01_T1_B4.TIF\""
   ]
  },
  {
   "cell_type": "code",
   "execution_count": null,
   "metadata": {
    "scrolled": true
   },
   "outputs": [],
   "source": [
    "!gdalinfo /vsicurl/{HOST}/{IMAGE}"
   ]
  },
  {
   "cell_type": "code",
   "execution_count": null,
   "metadata": {},
   "outputs": [],
   "source": [
    "%%bash\n",
    "HOST='http://landsat-pds.s3.amazonaws.com/c1/L8/042/034/LC08_L1TP_042034_20170616_20170629_01_T1'\n",
    "IMAGE='LC08_L1TP_042034_20170616_20170629_01_T1_B4.TIF'\n",
    "gdal_translate -of VRT /vsicurl/$HOST/$IMAGE LC08_L1TP_042034_20170616_20170629_01_T1_B4.vrt"
   ]
  },
  {
   "cell_type": "code",
   "execution_count": null,
   "metadata": {},
   "outputs": [],
   "source": [
    "!gdalinfo LC08_L1TP_042034_20170616_20170629_01_T1_B4.vrt | grep PROJCS"
   ]
  },
  {
   "cell_type": "code",
   "execution_count": null,
   "metadata": {},
   "outputs": [],
   "source": [
    "import rasterio\n",
    "from rasterio import plot\n",
    "\n",
    "\n",
    "fname = datapath.joinpath('world.rgb.tif')\n",
    "\n",
    "world = rasterio.open(fname)\n",
    "\n",
    "type(world)"
   ]
  },
  {
   "cell_type": "code",
   "execution_count": null,
   "metadata": {},
   "outputs": [],
   "source": [
    "world.meta"
   ]
  },
  {
   "cell_type": "code",
   "execution_count": null,
   "metadata": {},
   "outputs": [],
   "source": [
    "%matplotlib inline\n",
    "import matplotlib.pyplot as plt\n",
    "\n",
    "\n",
    "fig, (axr, axg, axb) = plt.subplots(1,3, figsize=(12, 4), sharex=True, sharey=True)\n",
    "plot.show((world, 1), ax=axr, cmap='Reds', title='red channel')\n",
    "plot.show((world, 2), ax=axg, cmap='Greens', title='green channel')\n",
    "plot.show((world, 3), ax=axb, cmap='Blues', title='blue channel');"
   ]
  },
  {
   "cell_type": "code",
   "execution_count": null,
   "metadata": {},
   "outputs": [],
   "source": [
    "plot.show_hist(world, bins=50, lw=0.0, stacked=False, alpha=0.3, \n",
    "               histtype='stepfilled', title='World Histogram overlaid')\n"
   ]
  },
  {
   "cell_type": "code",
   "execution_count": null,
   "metadata": {},
   "outputs": [],
   "source": [
    "arr = world.read()\n",
    "\n",
    "red = arr[0, ...]"
   ]
  },
  {
   "cell_type": "code",
   "execution_count": null,
   "metadata": {},
   "outputs": [],
   "source": [
    "import cartopy\n",
    "import cartopy.crs as ccrs\n",
    "\n",
    "\n",
    "fig, ax = plt.subplots(\n",
    "    figsize=(12, 10),\n",
    "    subplot_kw={'projection': ccrs.InterruptedGoodeHomolosine()})\n",
    "ax.set_global()\n",
    "ax.imshow(red, origin='upper', transform=ccrs.PlateCarree(),\n",
    "          interpolation=None)\n",
    "ax.coastlines()\n",
    "ax.add_feature(cartopy.feature.BORDERS);"
   ]
  },
  {
   "cell_type": "markdown",
   "metadata": {},
   "source": [
    "<div class=\"alert-success\">\n",
    "\n",
    "Dados raster são, hoje em dia, pesados e difícil de lidar, mas Python, xarray, e catalogs facilitam a sua exploração, obtenção, manipulação e visualização.\n",
    "\n",
    "* Raster são dados pixelated em forma de matrix\n",
    "* Imagens raster são em geral \"arrays\" de várias dimensões (RGB).\n",
    "* Raster geospaciais trazem um sistema de referência de coordenadas.\n",
    "* \"Resolution\" é o tamanho pixel no \"chão\", mas especificamente é a habilidade do sensor de identificar objetos no solo.\n",
    "\n",
    "</div>"
   ]
  }
 ],
 "metadata": {
  "kernelspec": {
   "display_name": "Python 3",
   "language": "python",
   "name": "python3"
  },
  "language_info": {
   "codemirror_mode": {
    "name": "ipython",
    "version": 3
   },
   "file_extension": ".py",
   "mimetype": "text/x-python",
   "name": "python",
   "nbconvert_exporter": "python",
   "pygments_lexer": "ipython3",
   "version": "3.7.3"
  }
 },
 "nbformat": 4,
 "nbformat_minor": 2
}
