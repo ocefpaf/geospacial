{
 "cells": [
  {
   "cell_type": "code",
   "execution_count": null,
   "metadata": {},
   "outputs": [],
   "source": [
    "from pathlib import Path\n",
    "\n",
    "datapath = Path(\"data\")"
   ]
  },
  {
   "cell_type": "markdown",
   "metadata": {},
   "source": [
    "# Rápida introdução ao Pandas\n",
    "\n",
    "\n",
    "<div class=\"alert-info\">\n",
    "\n",
    "### Perguntas\n",
    "- Como ler dados em tabela?\n",
    "- Como filtrar dados de uma tabela?\n",
    "\n",
    "### Objetivos\n",
    "- Leitura e manipulação básica de dados 2D.\n",
    "- Encontrar e filtrar dados de interesse.\n",
    "\n",
    "</div>\n",
    "\n",
    "\n",
    "Pandas adciona a estrutura de _DataFrame_ ao Python e tem sido central na adoção do Python em ciências pois facilita a manipulação de tabelas de dados."
   ]
  },
  {
   "cell_type": "code",
   "execution_count": null,
   "metadata": {},
   "outputs": [],
   "source": [
    "import pandas as pd\n",
    "\n",
    "\n",
    "fname = datapath.joinpath(\"positions.csv\")\n",
    "df = pd.read_csv(fname)\n",
    "\n",
    "df.head()"
   ]
  },
  {
   "cell_type": "code",
   "execution_count": null,
   "metadata": {},
   "outputs": [],
   "source": [
    "df.loc[df[\"municipio\"] == \"FLORIANÓPOLIS\"]"
   ]
  },
  {
   "cell_type": "markdown",
   "metadata": {},
   "source": [
    "<div class=\"alert-warning\">\n",
    "\n",
    "Exercício:\n",
    "\n",
    "1. Olhe os item únicos da coluna `municipio`, escolha um e filtro todo o DataFrame para ele. (dica: use o `set` para ver a lista única).\n",
    "\n",
    "2. Filtre novamente para `FLORIANÓPOLIS` mas escolha todas as praias (`balneario_nome`) com `Sul` no nome.\n",
    "\n",
    "</div>"
   ]
  },
  {
   "cell_type": "code",
   "execution_count": null,
   "metadata": {},
   "outputs": [],
   "source": [
    "%load exe00.py"
   ]
  },
  {
   "cell_type": "markdown",
   "metadata": {},
   "source": [
    "Qual seria uma melhor forma de encontrar as prais do Sul de Floripa?"
   ]
  },
  {
   "cell_type": "code",
   "execution_count": null,
   "metadata": {},
   "outputs": [],
   "source": [
    "lat, lon = -27.596944, -48.548889  # Wikipédia"
   ]
  },
  {
   "cell_type": "code",
   "execution_count": null,
   "metadata": {},
   "outputs": [],
   "source": [
    "set(\n",
    "    floripa.loc[\n",
    "        floripa[\"lat\"] < lat][\"balneario_nome\"].str.title()\n",
    ")"
   ]
  },
  {
   "cell_type": "markdown",
   "metadata": {},
   "source": [
    "# Nosso primeiro mapa estático\n",
    "\n",
    "\n",
    "<div class=\"alert-info\">\n",
    "\n",
    "### Perguntas\n",
    "- Qual software é o \"estado da arte\" para mapas estáticos no Python?\n",
    "- Como mostrar dados de uma tabela de pontos num mapa?\n",
    "\n",
    "### Objetivos\n",
    "- Ler, manipular e graficar pontos num mapa.\n",
    "- Colocar camadas de um mapa base nos dados.\n",
    "  \n",
    "</div>\n",
    "\n",
    "\n",
    "Vamos fazer um mapa com as praias do Sul e Norte."
   ]
  },
  {
   "cell_type": "code",
   "execution_count": null,
   "metadata": {},
   "outputs": [],
   "source": [
    "%matplotlib inline\n",
    "\n",
    "import cartopy.crs as ccrs\n",
    "import matplotlib.pyplot as plt\n",
    "\n",
    "\n",
    "fig, ax = plt.subplots(\n",
    "    subplot_kw={\"projection\": ccrs.PlateCarree()},\n",
    "    figsize=(9, 9)\n",
    ")\n",
    "\n",
    "dx = dy = 0.25\n",
    "extent = [lon-dx, lon+dx, lat-dy, lat+dy]\n",
    "ax.set_extent(extent)\n",
    "ax.coastlines(\"10m\")\n",
    "\n",
    "sul = floripa.loc[floripa[\"lat\"] < lat]\n",
    "norte = floripa.loc[floripa[\"lat\"] >= lat]\n",
    "\n",
    "ax.plot(sul[\"lon\"], sul[\"lat\"], 'o')\n",
    "ax.plot(norte[\"lon\"], norte[\"lat\"], 'o');"
   ]
  },
  {
   "cell_type": "markdown",
   "metadata": {},
   "source": [
    "<div class=\"alert-warning\">\n",
    "\n",
    "Exercício: O que falta no mapa que fizemos?\n",
    "\n",
    "- Uma linha de costa de melhor resolução;\n",
    "- *Labels* em *x* e *y*;\n",
    "- Legenda;\n",
    "- Filtrar praias repetidas para uma figura mais legível.\n",
    "\n",
    "</div>"
   ]
  },
  {
   "cell_type": "code",
   "execution_count": null,
   "metadata": {},
   "outputs": [],
   "source": [
    "import geopandas\n",
    "\n",
    "\n",
    "floripa_outline = geopandas.read_file(\n",
    "    datapath.joinpath(\"floripa.geojson\")\n",
    ")[\"geometry\"].squeeze()"
   ]
  },
  {
   "cell_type": "code",
   "execution_count": null,
   "metadata": {
    "scrolled": false
   },
   "outputs": [],
   "source": [
    "%load exe01.py"
   ]
  },
  {
   "cell_type": "markdown",
   "metadata": {},
   "source": [
    "# Onde conseguir linhas de costa de melhor resolução?"
   ]
  },
  {
   "cell_type": "markdown",
   "metadata": {},
   "source": [
    "![](https://media.giphy.com/media/WUGNg3FuhiywU/giphy.gif)"
   ]
  },
  {
   "cell_type": "markdown",
   "metadata": {},
   "source": [
    "<div class=\"alert-warning\">\n",
    "\n",
    "Exercício:\n",
    "\n",
    "Mude o mapa base da linha de costa para o `cartopy` stock image (cheque o método `stock_img` do obejto `ax`.)\n",
    "\n",
    "</div>"
   ]
  },
  {
   "cell_type": "code",
   "execution_count": null,
   "metadata": {},
   "outputs": [],
   "source": [
    "%load exe02.py"
   ]
  },
  {
   "cell_type": "markdown",
   "metadata": {},
   "source": [
    "<div class=\"alert-success\">\n",
    "\n",
    "Lemos dados do disco com o pandas e plotamos em um mapa estático!\n",
    "\n",
    "Nesse mapa utilizamos dados vetoriais e raster,\n",
    "no próximo notebook vamos explicar esses conceitos e ver como obter, manipular, e plotar ambos tipos de dados.\n",
    "\n",
    "</div>"
   ]
  }
 ],
 "metadata": {
  "kernelspec": {
   "display_name": "Python 3",
   "language": "python",
   "name": "python3"
  },
  "language_info": {
   "codemirror_mode": {
    "name": "ipython",
    "version": 3
   },
   "file_extension": ".py",
   "mimetype": "text/x-python",
   "name": "python",
   "nbconvert_exporter": "python",
   "pygments_lexer": "ipython3",
   "version": "3.7.3"
  }
 },
 "nbformat": 4,
 "nbformat_minor": 2
}
