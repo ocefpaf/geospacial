{
 "cells": [
  {
   "cell_type": "code",
   "execution_count": null,
   "metadata": {},
   "outputs": [],
   "source": [
    "from pathlib import Path\n",
    "\n",
    "\n",
    "datapath = Path(\"data\")"
   ]
  },
  {
   "cell_type": "markdown",
   "metadata": {},
   "source": [
    "# Dados tipo vetor\n",
    "\n",
    "\n",
    "<div class=\"alert-info\">\n",
    "\n",
    "### Perguntas\n",
    "- O que são dados vetoriais no contexto SIG?\n",
    "- Quais as diferenças entre dados vetoriais e raster?\n",
    "- Quando usar um ou o outro?\n",
    "\n",
    "### Objetivos\n",
    "- Leitura e manipulação de dados vetoriais.\n",
    "- Entender o formato e suas utilidades.\n",
    "\n",
    "</div>"
   ]
  },
  {
   "cell_type": "markdown",
   "metadata": {},
   "source": [
    "Dados vetorias são pontos ou conjunto de pontos em um plano geométrico. Dados vetorias geospaciais o plano geométrico e definido por um sistema de coordenadas.\n",
    "\n",
    "\n",
    "Usaremos principalmente o `geopandas` para manipular os dados vetorais, mas antes de chegar lá vamos revisar brevemente o \"stack\" em que o geopandas é contruído."
   ]
  },
  {
   "cell_type": "markdown",
   "metadata": {},
   "source": [
    "- geos &rarr; pygeos e shapely\n",
    "- gdal &rarr; fiona\n",
    "- pandas\n",
    "- tudo junto &rarr; geopandas"
   ]
  },
  {
   "cell_type": "markdown",
   "metadata": {},
   "source": [
    "### geos"
   ]
  },
  {
   "cell_type": "code",
   "execution_count": null,
   "metadata": {},
   "outputs": [],
   "source": [
    "from pygeos import Geometry\n",
    "\n",
    "\n",
    "geometry = Geometry.from_wkt(\"POINT (5.2 52.1)\")\n",
    "geometry"
   ]
  },
  {
   "cell_type": "code",
   "execution_count": null,
   "metadata": {},
   "outputs": [],
   "source": [
    "from pygeos import points\n",
    "\n",
    "point = points(5.2, 52.1)"
   ]
  },
  {
   "cell_type": "code",
   "execution_count": null,
   "metadata": {},
   "outputs": [],
   "source": [
    "from shapely.geometry import box\n",
    "\n",
    "b = box(0.0, 0.0, 1.0, 1.0)\n",
    "b"
   ]
  },
  {
   "cell_type": "code",
   "execution_count": null,
   "metadata": {},
   "outputs": [],
   "source": [
    "b.centroid"
   ]
  },
  {
   "cell_type": "code",
   "execution_count": null,
   "metadata": {},
   "outputs": [],
   "source": [
    "b.centroid.coords.xy, b.area"
   ]
  },
  {
   "cell_type": "markdown",
   "metadata": {},
   "source": [
    "### gdal"
   ]
  },
  {
   "cell_type": "code",
   "execution_count": null,
   "metadata": {},
   "outputs": [],
   "source": [
    "import fiona\n",
    "\n",
    "\n",
    "coll = fiona.open(datapath.joinpath(\"floripa.geojson\"))\n",
    "\n",
    "coll"
   ]
  },
  {
   "cell_type": "code",
   "execution_count": null,
   "metadata": {},
   "outputs": [],
   "source": [
    "coll.meta"
   ]
  },
  {
   "cell_type": "code",
   "execution_count": null,
   "metadata": {},
   "outputs": [],
   "source": [
    "coll.bounds, coll.crs"
   ]
  },
  {
   "cell_type": "code",
   "execution_count": null,
   "metadata": {},
   "outputs": [],
   "source": [
    "for k, item in coll.items():\n",
    "    print(item)"
   ]
  },
  {
   "cell_type": "markdown",
   "metadata": {},
   "source": [
    "### GeoPandas"
   ]
  },
  {
   "cell_type": "code",
   "execution_count": null,
   "metadata": {},
   "outputs": [],
   "source": [
    "import geopandas\n",
    "\n",
    "\n",
    "gdf = geopandas.read_file(datapath.joinpath(\"floripa.geojson\"))\n",
    "gdf"
   ]
  },
  {
   "cell_type": "markdown",
   "metadata": {},
   "source": [
    "<div class=\"alert-warning\">\n",
    "\n",
    "Exercício:\n",
    "\n",
    "1. Usando o `repr` do Jupyter mostre um item da coluna `geometry`.\n",
    "\n",
    "</div>"
   ]
  },
  {
   "cell_type": "markdown",
   "metadata": {},
   "source": [
    "```python\n",
    "gdf[\"\"]\n",
    "```"
   ]
  },
  {
   "cell_type": "markdown",
   "metadata": {},
   "source": [
    "### Pausa para falar sobre os tipos fundamentais de vetores!\n",
    "\n",
    "### Pontos"
   ]
  },
  {
   "cell_type": "code",
   "execution_count": null,
   "metadata": {},
   "outputs": [],
   "source": [
    "import geopandas\n",
    "from shapely.geometry import Point\n",
    "from toolz.dicttoolz import valmap\n",
    "\n",
    "\n",
    "pybrs = {\n",
    "    \"Campinas\": [-47.060833, -22.905833],\n",
    "    \"Brasília\": [-47.882778, -15.793889],\n",
    "    \"Joinville\": [-48.845833, -26.303889],\n",
    "    \"Rio de Janeiro\": [-43.196389, -22.908333],\n",
    "    \"Caxias do Sul\": [-51.178889, -29.167778],\n",
    "    \"Curitiba\": [-49.271944, -25.429722],\n",
    "    \"São Paulo\": [-46.633333, -23.55],\n",
    "    \"Cidade Nova\": [-43.2025, -22.91],\n",
    "    \"Brasília\": [-47.882778, -15.793889],\n",
    "    \"Porto de Galinhas\": [-35.0011, -8.5041],\n",
    "    \"São José dos Campos\": [-45.886944, -23.178889],\n",
    "    \"Florianópolis\": [-48.548889, -27.596944],\n",
    "    \"Belo Horizonte\": [-43.933333, -19.916667],\n",
    "    \"Ribeirão Preto\": [-47.81, -21.177778],\n",
    "}\n",
    "\n",
    "\n",
    "pybrs_points = valmap(Point, pybrs)\n",
    "\n",
    "gs = geopandas.GeoSeries(pybrs_points)\n",
    "gs.crs = {'init': 'epsg:4326'}\n",
    "gs"
   ]
  },
  {
   "cell_type": "code",
   "execution_count": null,
   "metadata": {},
   "outputs": [],
   "source": [
    "%matplotlib inline\n",
    "\n",
    "ax = gs.plot()"
   ]
  },
  {
   "cell_type": "markdown",
   "metadata": {},
   "source": [
    "<div class=\"alert-warning\">\n",
    "\n",
    "Exercício:\n",
    "\n",
    "1. Usando o notebook anterio coloque esses pontos num mapa estático.\n",
    "\n",
    "</div>"
   ]
  },
  {
   "cell_type": "code",
   "execution_count": null,
   "metadata": {},
   "outputs": [],
   "source": [
    "west, south, east, north = gs.total_bounds"
   ]
  },
  {
   "cell_type": "code",
   "execution_count": null,
   "metadata": {},
   "outputs": [],
   "source": [
    "%load exe03.py"
   ]
  },
  {
   "cell_type": "markdown",
   "metadata": {},
   "source": [
    "### Linhas"
   ]
  },
  {
   "cell_type": "code",
   "execution_count": null,
   "metadata": {},
   "outputs": [],
   "source": [
    "rivers = geopandas.read_file(\n",
    "    f'zip://{datapath.joinpath(\"ne_50m_rivers_lake_centerlines.zip\")}'\n",
    ")\n",
    "\n",
    "amazon = rivers[rivers['name'] == 'Amazonas'].geometry.squeeze()\n",
    "\n",
    "amazon"
   ]
  },
  {
   "cell_type": "code",
   "execution_count": null,
   "metadata": {},
   "outputs": [],
   "source": [
    "type(amazon)"
   ]
  },
  {
   "cell_type": "markdown",
   "metadata": {},
   "source": [
    "### Polígonos"
   ]
  },
  {
   "cell_type": "code",
   "execution_count": null,
   "metadata": {},
   "outputs": [],
   "source": [
    "countries = geopandas.read_file(\n",
    "    f'zip://{datapath.joinpath(\"ne_110m_admin_0_countries.zip\")}'\n",
    ")\n",
    "\n",
    "brasil = countries[countries['name'] == 'Brazil'].geometry.squeeze()\n",
    "\n",
    "brasil"
   ]
  },
  {
   "cell_type": "code",
   "execution_count": null,
   "metadata": {},
   "outputs": [],
   "source": [
    "type(brasil)"
   ]
  },
  {
   "cell_type": "markdown",
   "metadata": {},
   "source": [
    "### Vantagens do GeoPandas: operações em alto nível"
   ]
  },
  {
   "cell_type": "code",
   "execution_count": null,
   "metadata": {},
   "outputs": [],
   "source": [
    "intersec = countries[countries.intersects(brasil)]\n",
    "\n",
    "intersec"
   ]
  },
  {
   "cell_type": "markdown",
   "metadata": {},
   "source": [
    "<div class=\"alert-warning\">\n",
    "\n",
    "Exercício:\n",
    "\n",
    "1. Leia o help do método `crosses` e crie uma lista dos países que o Rio Amazonas cruza.\n",
    "\n",
    "</div>"
   ]
  },
  {
   "cell_type": "markdown",
   "metadata": {},
   "source": [
    "```Python\n",
    "countries.crosses?\n",
    "```"
   ]
  },
  {
   "cell_type": "markdown",
   "metadata": {},
   "source": [
    "### Lemos GeoJson, zip'ed SIG e agora o notório shapefile."
   ]
  },
  {
   "cell_type": "code",
   "execution_count": null,
   "metadata": {},
   "outputs": [],
   "source": [
    "oceans = geopandas.read_file(datapath.joinpath(\"oceans.shp\"))\n",
    "oceans"
   ]
  },
  {
   "cell_type": "code",
   "execution_count": null,
   "metadata": {},
   "outputs": [],
   "source": [
    "oceans.crs"
   ]
  },
  {
   "cell_type": "code",
   "execution_count": null,
   "metadata": {},
   "outputs": [],
   "source": [
    "oceans.geom_type"
   ]
  },
  {
   "cell_type": "code",
   "execution_count": null,
   "metadata": {},
   "outputs": [],
   "source": [
    "oceans.plot(\n",
    "    column=\"Oceans\",\n",
    "    categorical=True,\n",
    "    legend=True,\n",
    "    figsize=(14, 6)\n",
    ");"
   ]
  },
  {
   "cell_type": "markdown",
   "metadata": {},
   "source": [
    "<div class=\"alert-warning\">\n",
    "\n",
    "Exercício:\n",
    "\n",
    "1. Qual é a maior bacia oceânica?\n",
    "\n",
    "Dica: cheque o método `area`.\n",
    "\n",
    "</div>"
   ]
  },
  {
   "cell_type": "markdown",
   "metadata": {},
   "source": [
    "```\n",
    "oceans?\n",
    "```"
   ]
  },
  {
   "cell_type": "code",
   "execution_count": null,
   "metadata": {},
   "outputs": [],
   "source": [
    "countries.plot(\n",
    "    ax=oceans.plot(cmap='Set2', figsize=(10, 10)),\n",
    "    facecolor='gray'\n",
    ");"
   ]
  },
  {
   "cell_type": "code",
   "execution_count": null,
   "metadata": {},
   "outputs": [],
   "source": [
    "import requests\n",
    "import geojson\n",
    "\n",
    "\n",
    "wfs_url = \"http://data.nanoos.org/geoserver/ows\"\n",
    "params = {\n",
    "    \"service\": \"WFS\",\n",
    "    \"version\": \"1.0.0\",\n",
    "    \"request\": \"GetFeature\",\n",
    "    \"typeName\": \"oa:goaoninv\",\n",
    "    \"outputFormat\": \"json\",\n",
    "}\n",
    "\n",
    "r = requests.get(wfs_url, params=params)\n",
    "wfs_geo = geojson.loads(r.content)"
   ]
  },
  {
   "cell_type": "code",
   "execution_count": null,
   "metadata": {},
   "outputs": [],
   "source": [
    "gdf = geopandas.GeoDataFrame.from_features(wfs_geo)\n",
    "gdf"
   ]
  },
  {
   "cell_type": "code",
   "execution_count": null,
   "metadata": {},
   "outputs": [],
   "source": [
    "gdf.iloc[-1]"
   ]
  },
  {
   "cell_type": "code",
   "execution_count": null,
   "metadata": {},
   "outputs": [],
   "source": [
    "gdf.plot(\n",
    "    ax=countries.plot(\n",
    "        cmap=\"Set3\",\n",
    "        figsize=(10, 6)\n",
    "    ),\n",
    "    marker=\"o\",\n",
    "    color=\"red\",\n",
    "    markersize=15\n",
    ");"
   ]
  },
  {
   "cell_type": "markdown",
   "metadata": {},
   "source": [
    "<div class=\"alert-success\">\n",
    "\n",
    "Lemos dados do disco e online com o geopandas e plotamos em um mapas estáticos.\n",
    "\n",
    "- Dados vetoriais são em geral menores é mas fácil de representar matematicamete/geometricamente que raster.\n",
    "- Os tipos são pontos, linhas, polígonos e suas combinações.\n",
    "- \n",
    "\n",
    "Recomendo http://darribas.org/gds19/labs/Lab_03.html e http://darribas.org/gds19/notes/Class_03.html para exemplo de visualização legais e úteis!\n",
    "\n",
    "</div>"
   ]
  }
 ],
 "metadata": {
  "kernelspec": {
   "display_name": "Python 3",
   "language": "python",
   "name": "python3"
  },
  "language_info": {
   "codemirror_mode": {
    "name": "ipython",
    "version": 3
   },
   "file_extension": ".py",
   "mimetype": "text/x-python",
   "name": "python",
   "nbconvert_exporter": "python",
   "pygments_lexer": "ipython3",
   "version": "3.7.3"
  }
 },
 "nbformat": 4,
 "nbformat_minor": 2
}
