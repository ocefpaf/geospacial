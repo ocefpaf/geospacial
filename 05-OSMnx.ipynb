{
 "cells": [
  {
   "cell_type": "markdown",
   "metadata": {},
   "source": [
    "# Usando o OSMnx para obter dados de SIG"
   ]
  },
  {
   "cell_type": "markdown",
   "metadata": {},
   "source": [
    "## 1. Analizando a origem da água em Florianópolis\n",
    "\n",
    "<div class=\"alert alert-info\" style=\"font-size:100%\">\n",
    "\n",
    "Quando prédios existem na área metropolitana? De onde é oriunda a água que abastece a região?\n",
    "\n",
    "</div>"
   ]
  },
  {
   "cell_type": "code",
   "execution_count": null,
   "metadata": {},
   "outputs": [],
   "source": [
    "lon, lat = -48.548889, -27.596944\n",
    "\n",
    "dx = dy = 0.05\n",
    "\n",
    "bbox = [lon-dx, lat+dy, lon+dx, lat-dy]\n",
    "west, north, east, south = bbox\n",
    "\n",
    "bbox_ctr = [0.5*(north+south), 0.5*(west+east)]\n",
    "\n",
    "bbox"
   ]
  },
  {
   "cell_type": "markdown",
   "metadata": {},
   "source": [
    "## 2. OSMnx extrai informações da base de dados do OpenStreetMaps\n",
    "\n",
    "<div class=\"alert alert-info\" style=\"font-size:100%\">\n",
    "\n",
    "Veja https://github.com/gboeing/osmnx-examples/blob/master/notebooks/10-building-footprints.ipynb e https://osmnx.readthedocs.io/en/stable/osmnx.html#module-osmnx.footprints\n",
    "para entender mais como o OSMnx funciona.\n",
    "\n",
    "</div>"
   ]
  },
  {
   "cell_type": "code",
   "execution_count": null,
   "metadata": {},
   "outputs": [],
   "source": [
    "import osmnx\n",
    "\n",
    "\n",
    "osmnx.config(use_cache=True, log_console=True)\n",
    "\n",
    "buildings = osmnx.create_footprints_gdf(\n",
    "    north=north,\n",
    "    south=south,\n",
    "    east=east,\n",
    "    west=west,\n",
    "    footprint_type=\"building\",\n",
    ")"
   ]
  },
  {
   "cell_type": "code",
   "execution_count": null,
   "metadata": {},
   "outputs": [],
   "source": [
    "buildings.crs"
   ]
  },
  {
   "cell_type": "code",
   "execution_count": null,
   "metadata": {},
   "outputs": [],
   "source": [
    "len(buildings)"
   ]
  },
  {
   "cell_type": "code",
   "execution_count": null,
   "metadata": {},
   "outputs": [],
   "source": [
    "%matplotlib inline\n",
    "\n",
    "\n",
    "buildings.plot(edgecolor=\"grey\", linewidth=2);"
   ]
  },
  {
   "cell_type": "code",
   "execution_count": null,
   "metadata": {},
   "outputs": [],
   "source": [
    "buildings.geom_type.unique()"
   ]
  },
  {
   "cell_type": "code",
   "execution_count": null,
   "metadata": {},
   "outputs": [],
   "source": [
    "buildings.columns"
   ]
  },
  {
   "cell_type": "code",
   "execution_count": null,
   "metadata": {},
   "outputs": [],
   "source": [
    "buildings.head()"
   ]
  },
  {
   "cell_type": "markdown",
   "metadata": {},
   "source": [
    "### Explore a distribuição de valores de algumas dessas colunas."
   ]
  },
  {
   "cell_type": "code",
   "execution_count": null,
   "metadata": {},
   "outputs": [],
   "source": [
    "buildings[\"amenity\"].value_counts()"
   ]
  },
  {
   "cell_type": "markdown",
   "metadata": {},
   "source": [
    "```\n",
    "buildings[\"building\"].value_counts()\n",
    "```"
   ]
  },
  {
   "cell_type": "markdown",
   "metadata": {},
   "source": [
    "### Re-projetar para UMT para calcular áreas\n",
    "\n",
    "Veja [como achar o CRS](https://gis.stackexchange.com/questions/190198/how-to-get-appropriate-crs-for-a-position-specified-in-lat-lon-coordinates) ane [a UTM zone](https://gis.stackexchange.com/questions/269518/auto-select-suitable-utm-zone-based-on-grid-intersection) via stackexchange."
   ]
  },
  {
   "cell_type": "code",
   "execution_count": null,
   "metadata": {},
   "outputs": [],
   "source": [
    "import utm\n",
    "\n",
    "\n",
    "utmzone_code = utm.from_latlon(bbox_ctr[0], bbox_ctr[1])[-2:]\n",
    "utmzone_epsg = 32700 - round((45+bbox_ctr[0])/90)*100 + round((183+bbox_ctr[1])/6)\n",
    "utmzone_code, utmzone_epsg"
   ]
  },
  {
   "cell_type": "code",
   "execution_count": null,
   "metadata": {},
   "outputs": [],
   "source": [
    "buildings_utm = buildings.to_crs(epsg=utmzone_epsg)"
   ]
  },
  {
   "cell_type": "code",
   "execution_count": null,
   "metadata": {},
   "outputs": [],
   "source": [
    "building_area_m2 = buildings_utm.geometry.area"
   ]
  },
  {
   "cell_type": "code",
   "execution_count": null,
   "metadata": {},
   "outputs": [],
   "source": [
    "building_area_m2.min(), building_area_m2.mean(), building_area_m2.median(), building_area_m2.max()"
   ]
  },
  {
   "cell_type": "code",
   "execution_count": null,
   "metadata": {},
   "outputs": [],
   "source": [
    "buildings.loc[building_area_m2 == building_area_m2.max()]"
   ]
  },
  {
   "cell_type": "code",
   "execution_count": null,
   "metadata": {},
   "outputs": [],
   "source": [
    "bins_seq = [k for k in range(0, 10000, 200)]\n",
    "ax = buildings_utm.geometry.area.hist(bins=bins_seq)\n",
    "ax.set_xlabel(\"Pegada dos prédios de Floripa (m$^2$)\");"
   ]
  },
  {
   "cell_type": "markdown",
   "metadata": {},
   "source": [
    "## 3. Extrair os \"waterways\" usando `graph_from_bbox`"
   ]
  },
  {
   "cell_type": "markdown",
   "metadata": {},
   "source": [
    "Ceque [esse notebook exemplo fo osmnx](https://github.com/gboeing/osmnx-examples/blob/master/notebooks/16-work-with-other-infrastructures.ipynb) para maiores informações."
   ]
  },
  {
   "cell_type": "markdown",
   "metadata": {},
   "source": [
    "<div class=\"alert alert-info\" style=\"font-size:100%\">\n",
    "<b style=\"font-size:120%\">Navegando nos tipos de tag do OSM</b></br>\n",
    "\n",
    "OSM [\"representa feições físicas (ex., estradas ou prédios) usando tags nas suas estruturas de dados básicos (seus nós, vias, e relações)\"](https://wiki.openstreetmap.org/wiki/Map_Features). Essas tags podem ser complicadas de navegar. Vá para https://wiki.openstreetmap.org/wiki/Map_Features para navegar pelas tags de categoria _overlapping_. _Waterways_ são encontradas em várias formas; as mais úties são aqui _Waterway_ and _Natural_.\n",
    "\n",
    "</div>"
   ]
  },
  {
   "cell_type": "markdown",
   "metadata": {},
   "source": [
    "### Lendo as \"vias\" de `waterway`"
   ]
  },
  {
   "cell_type": "code",
   "execution_count": null,
   "metadata": {},
   "outputs": [],
   "source": [
    "waterways = osmnx.graph_from_bbox(\n",
    "    north=north,\n",
    "    south=south,\n",
    "    east=east,\n",
    "    west=west,\n",
    "    network_type=\"none\",\n",
    "    infrastructure=\"way['waterway']\",\n",
    "    retain_all=True,\n",
    "    truncate_by_edge=True,\n",
    "    simplify=False,\n",
    ")"
   ]
  },
  {
   "cell_type": "code",
   "execution_count": null,
   "metadata": {},
   "outputs": [],
   "source": [
    "waterways_edges = osmnx.graph_to_gdfs(waterways, nodes=False)\n",
    "\n",
    "len(waterways_edges)"
   ]
  },
  {
   "cell_type": "code",
   "execution_count": null,
   "metadata": {},
   "outputs": [],
   "source": [
    "waterways_edges.head()"
   ]
  },
  {
   "cell_type": "code",
   "execution_count": null,
   "metadata": {},
   "outputs": [],
   "source": [
    "waterways_edges.plot();"
   ]
  },
  {
   "cell_type": "markdown",
   "metadata": {},
   "source": [
    "### Lendo as vias de  `natural:water`"
   ]
  },
  {
   "cell_type": "code",
   "execution_count": null,
   "metadata": {},
   "outputs": [],
   "source": [
    "natwater = osmnx.graph_from_bbox(\n",
    "    north=north,\n",
    "    south=south,\n",
    "    east=east,\n",
    "    west=west,\n",
    "    network_type=\"none\",\n",
    "    infrastructure=\"way['natural'~'water']\",\n",
    "    retain_all=True,\n",
    "    truncate_by_edge=True,\n",
    "    simplify=False,\n",
    ")\n",
    "\n",
    "natwater_edges = osmnx.graph_to_gdfs(natwater, nodes=False)\n",
    "len(natwater_edges)"
   ]
  },
  {
   "cell_type": "code",
   "execution_count": null,
   "metadata": {},
   "outputs": [],
   "source": [
    "natwater_edges.plot();"
   ]
  },
  {
   "cell_type": "markdown",
   "metadata": {},
   "source": [
    "## 4. Colocando tudo junto!"
   ]
  },
  {
   "cell_type": "code",
   "execution_count": null,
   "metadata": {},
   "outputs": [],
   "source": [
    "import matplotlib.pyplot as plt\n",
    "\n",
    "\n",
    "fig, ax = plt.subplots(figsize=(10, 10))\n",
    "\n",
    "waterways_edges.plot(ax=ax, edgecolor=\"lightblue\", linewidth=1)\n",
    "natwater_edges.plot(ax=ax, edgecolor=\"darkblue\", linewidth=3)\n",
    "buildings.plot(ax=ax, edgecolor=\"grey\", linewidth=2, alpha=0.25);"
   ]
  },
  {
   "cell_type": "code",
   "execution_count": null,
   "metadata": {},
   "outputs": [],
   "source": [
    "%load exe04.py"
   ]
  },
  {
   "cell_type": "markdown",
   "metadata": {},
   "source": [
    "<div class=\"alert alert-warning\" style=\"font-size:100%\">\n",
    "\n",
    "Desafios:\n",
    "\n",
    "1. Gere um mapa semelhante para a reginão metropolitana de sua cidade ou cidade de interesse.\n",
    "2. Faça o gráfico final em um mapa _slippy_.\n",
    "\n",
    "</div>"
   ]
  },
  {
   "cell_type": "markdown",
   "metadata": {},
   "source": [
    "<div class=\"alert alert-success\" style=\"font-size:100%\">\n",
    "\n",
    "Utilizando apenas uma biblioteca, OSMnx, conseguimos (quase! falta a análise) gerar um mapa de sensibilidade de abastecimento de água para a região metropolitana de Florianólis.\n",
    "\n",
    "</div>"
   ]
  }
 ],
 "metadata": {
  "kernelspec": {
   "display_name": "Python 3",
   "language": "python",
   "name": "python3"
  },
  "language_info": {
   "codemirror_mode": {
    "name": "ipython",
    "version": 3
   },
   "file_extension": ".py",
   "mimetype": "text/x-python",
   "name": "python",
   "nbconvert_exporter": "python",
   "pygments_lexer": "ipython3",
   "version": "3.7.3"
  }
 },
 "nbformat": 4,
 "nbformat_minor": 4
}
